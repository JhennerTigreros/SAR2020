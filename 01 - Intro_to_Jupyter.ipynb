{
  "nbformat": 4,
  "nbformat_minor": 0,
  "metadata": {
    "colab": {
      "name": "SAR2020 - Intro to Jupyter.ipynb",
      "provenance": [],
      "collapsed_sections": [],
      "toc_visible": true,
      "authorship_tag": "ABX9TyOjIWbtBe8L3jyD8pVwZONT",
      "include_colab_link": true
    },
    "kernelspec": {
      "name": "python3",
      "display_name": "Python 3"
    }
  },
  "cells": [
    {
      "cell_type": "markdown",
      "metadata": {
        "id": "view-in-github",
        "colab_type": "text"
      },
      "source": [
        "<a href=\"https://colab.research.google.com/github/twloehfelm/SAR2020/blob/master/01%20-%20Intro_to_Jupyter.ipynb\" target=\"_parent\"><img src=\"https://colab.research.google.com/assets/colab-badge.svg\" alt=\"Open In Colab\"/></a>"
      ]
    },
    {
      "cell_type": "markdown",
      "metadata": {
        "id": "QU11kIhpvud_",
        "colab_type": "text"
      },
      "source": [
        "<table width=\"100%\">\n",
        "    <tr>\n",
        "        <td valign=\"top\"><img src=\"https://cdn.ymaws.com/www.abdominalradiology.org/graphics/logo.jpg\"/></td>\n",
        "        <td valign=\"middle\" align=\"right\"><h1>SAR 2020<br/>AI Masters Class</td>\n",
        "    </tr>\n",
        "    <tr>\n",
        "      <td align=\"center\" colspan=2><h1>Intro to Jupyter/Colab</h1></td>\n",
        "    </tr>\n",
        "</table>\n",
        "\n",
        "We are using **Google Colab**, an interactive Python programming environment based on the popular **Jupyter Notebook**.\n",
        "\n",
        "Jupyter Notebooks are not static web pages, but instead are composed of individual 'cells', each a runnable block of code.\n",
        "\n",
        "To execute the code in a cell, place your cursor anywhere inside the cell and press ```<Shift+Enter>```.\n",
        "\n",
        "Try executing this cell now.\n",
        "\n",
        "---\n",
        "\n",
        "\n",
        "\n"
      ]
    },
    {
      "cell_type": "markdown",
      "metadata": {
        "id": "0K-eb1H0xvMs",
        "colab_type": "text"
      },
      "source": [
        "Not much happened - that's because the cell you ran didn't have any executable code.\n",
        "\n",
        "Cells can contain plain text, like this and the previous one, or they can contain Python code. In either case, you can press ```<Shift+Enter>``` to 'run' the cell and advance to the next one, whether you are in a text cell or a code cell.\n",
        "\n",
        "Try executing the code in the next cell.\n",
        "\n",
        "\n",
        "---\n",
        "\n"
      ]
    },
    {
      "cell_type": "code",
      "metadata": {
        "id": "sfwPTVHovq8a",
        "colab_type": "code",
        "outputId": "4a90a4bc-217e-41d9-b5fe-12ca8399194a",
        "colab": {
          "base_uri": "https://localhost:8080/",
          "height": 34
        }
      },
      "source": [
        "3+4"
      ],
      "execution_count": 0,
      "outputs": [
        {
          "output_type": "execute_result",
          "data": {
            "text/plain": [
              "7"
            ]
          },
          "metadata": {
            "tags": []
          },
          "execution_count": 1
        }
      ]
    },
    {
      "cell_type": "markdown",
      "metadata": {
        "id": "3ZkICey0ybPS",
        "colab_type": "text"
      },
      "source": [
        "**Great!** That was a code cell. Notice that the output prints right after the cell. This is part of what makes Jupyter Notebook such a great way to learn Python - you can test in real time as you are writing.\n",
        "\n",
        "\n",
        "---\n",
        "\n"
      ]
    },
    {
      "cell_type": "markdown",
      "metadata": {
        "id": "ji9VWLtL5WkK",
        "colab_type": "text"
      },
      "source": [
        "This Notebook is running on a virtual computer (VM) running a linux operating system created on-the-fly for the sole purpose of running this notebook.\n",
        "\n",
        "Like any computer the VM has a file system, and we have access to it - later on we'll be creating specific files and directories to save our images to.\n",
        "\n",
        "We can even run commands *on the VM* rather than in this Notebook by adding an ```!``` to the start of the command and then using any standard linux command line functions.\n",
        "\n",
        "For example, to figure out what directory we are currently working in - the **p**resent **w**orking **d**irectory - we'll run:\n",
        "\n",
        "```! pwd```"
      ]
    },
    {
      "cell_type": "code",
      "metadata": {
        "id": "_GRP3cc06rSy",
        "colab_type": "code",
        "outputId": "3473f5a0-2040-42a9-aae6-ca4218728e5d",
        "colab": {
          "base_uri": "https://localhost:8080/",
          "height": 34
        }
      },
      "source": [
        "! pwd"
      ],
      "execution_count": 0,
      "outputs": [
        {
          "output_type": "stream",
          "text": [
            "/content\n"
          ],
          "name": "stdout"
        }
      ]
    },
    {
      "cell_type": "markdown",
      "metadata": {
        "id": "qUDwNHyB-Dd5",
        "colab_type": "text"
      },
      "source": [
        "To list the contents of the current directory, we'll run:\n",
        "\n",
        "```! ls```"
      ]
    },
    {
      "cell_type": "code",
      "metadata": {
        "id": "qhtQk_Xm9bRz",
        "colab_type": "code",
        "outputId": "4d1da7db-543b-4201-bf7d-75b02074dc67",
        "colab": {
          "base_uri": "https://localhost:8080/",
          "height": 34
        }
      },
      "source": [
        "! ls"
      ],
      "execution_count": 0,
      "outputs": [
        {
          "output_type": "stream",
          "text": [
            "sample_data\n"
          ],
          "name": "stdout"
        }
      ]
    },
    {
      "cell_type": "markdown",
      "metadata": {
        "id": "dkJaLzCr6x0g",
        "colab_type": "text"
      },
      "source": [
        "So it seems the current directory is ```/content``` and it contains a subdirectory called ```sample_data```. To **c**hange **d**irectories, we can use the ```cd``` command, so:\n",
        "\n",
        "```! cd sample_data && ls``` will change directories (```cd```) into the sample_data subdirectory and then (```&&```) list its contents (```ls```)"
      ]
    },
    {
      "cell_type": "code",
      "metadata": {
        "id": "nM842c8P7C4_",
        "colab_type": "code",
        "colab": {}
      },
      "source": [
        "! cd sample_data && ls"
      ],
      "execution_count": 0,
      "outputs": []
    },
    {
      "cell_type": "markdown",
      "metadata": {
        "id": "rpc0x2Jm7Qhx",
        "colab_type": "text"
      },
      "source": [
        "Colab Notebooks come preconfigured with these sample data files. We won't be using them, but it is good to know how to navigate around the VM directories.\n",
        "\n",
        "\n",
        "---\n",
        "\n"
      ]
    },
    {
      "cell_type": "markdown",
      "metadata": {
        "id": "7XkJ50-dzxcM",
        "colab_type": "text"
      },
      "source": [
        "To help make sense of the next notebooks, which contain more complicated coding concepts, here are some basic references:"
      ]
    },
    {
      "cell_type": "code",
      "metadata": {
        "id": "7CUVQZHfyIwo",
        "colab_type": "code",
        "colab": {}
      },
      "source": [
        "# COMMENTS are lines text in a code cell each preceded by a hashtag (#).\n",
        "# Commented text is not executed but it is good practice for programmers to \n",
        "# explain what a particular block of code does.\n",
        "\n",
        "# A different format for adding comments is to enclose text in three consecutive double quotes\n",
        "# This format is good when the comment spans multiple lines since the quotes \n",
        "# only need to be added to the start and end of the comment, not on each line\n",
        "# It is often used to describe the arguments (input) and return (output)\n",
        "# of a function:\n",
        "import math\n",
        "def vol_ellipsoid(dims):\n",
        "  \"\"\"Calculates the volume of an ellipsoid provided the three perpendicular dimensions\n",
        "    args:\n",
        "      [x,y,z] dimensions\n",
        "    returns:\n",
        "      volume, calculated as  pi/6 * a * b * c \n",
        "    \"\"\"\n",
        "  a, b, c = dims\n",
        "  return math.pi/6 * a * b * c"
      ],
      "execution_count": 0,
      "outputs": []
    },
    {
      "cell_type": "code",
      "metadata": {
        "id": "RMqrSdc21v-n",
        "colab_type": "code",
        "outputId": "884b414b-6389-412f-d05d-b2c38a4c43c9",
        "colab": {
          "base_uri": "https://localhost:8080/",
          "height": 34
        }
      },
      "source": [
        "# After we've defined a function, we can 'call' it:\n",
        "vol_ellipsoid([12, 6, 5.5])"
      ],
      "execution_count": 0,
      "outputs": [
        {
          "output_type": "execute_result",
          "data": {
            "text/plain": [
              "207.34511513692635"
            ]
          },
          "metadata": {
            "tags": []
          },
          "execution_count": 2
        }
      ]
    },
    {
      "cell_type": "code",
      "metadata": {
        "id": "bAuwmH2B2n7s",
        "colab_type": "code",
        "colab": {}
      },
      "source": [
        "# Similarly, we can assign arbitrary values to variables, and refer back to them later\n",
        "firstname = 'Sherlock'\n",
        "lastname = 'Holmes'\n",
        "location = 'Maui'\n",
        "kidney_dimensions = [12, 6, 5.5]\n",
        "\n",
        "# We can add functions to our code by importing python modules from existing code repositories.\n",
        "# Here we are importing the Decimal function from the decimal module\n",
        "from decimal import Decimal\n",
        "\n",
        "# And then use those imported functions to manipulate data.\n",
        "# Here we are reformatting the surface area of the sun into scientific notation using the Decimal function from the decimal Python library:\n",
        "kidney_volume = '%.2f' % Decimal(vol_ellipsoid(kidney_dimensions))\n",
        "\n",
        "letter = 'Dear ' + firstname + ' ' + lastname + ':\\n\\nI hope you are enjoying your trip to ' + location + '.\\n\\nDo you think that ' + kidney_volume + ' cc is reasonable for a human kidney volume?'"
      ],
      "execution_count": 0,
      "outputs": []
    },
    {
      "cell_type": "code",
      "metadata": {
        "id": "CthEAmVg3YEA",
        "colab_type": "code",
        "outputId": "6896336b-4afc-47ba-968b-c4a88bcdc8ac",
        "colab": {
          "base_uri": "https://localhost:8080/",
          "height": 102
        }
      },
      "source": [
        "print(letter)"
      ],
      "execution_count": 0,
      "outputs": [
        {
          "output_type": "stream",
          "text": [
            "Dear Sherlock Holmes:\n",
            "\n",
            "I hope you are enjoying your trip to Maui.\n",
            "\n",
            "Do you think that 207.35 cc is reasonable for a human kidney volume?\n"
          ],
          "name": "stdout"
        }
      ]
    }
  ]
}