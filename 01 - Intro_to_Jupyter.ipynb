{
  "nbformat": 4,
  "nbformat_minor": 0,
  "metadata": {
    "colab": {
      "name": "SAR2020 - Intro to Jupyter.ipynb",
      "provenance": [],
      "collapsed_sections": [],
      "toc_visible": true,
      "include_colab_link": true
    },
    "kernelspec": {
      "name": "python3",
      "display_name": "Python 3"
    }
  },
  "cells": [
    {
      "cell_type": "markdown",
      "metadata": {
        "id": "view-in-github",
        "colab_type": "text"
      },
      "source": [
        "<a href=\"https://colab.research.google.com/github/twloehfelm/SAR2020/blob/master/01%20-%20Intro_to_Jupyter.ipynb\" target=\"_parent\"><img src=\"https://colab.research.google.com/assets/colab-badge.svg\" alt=\"Open In Colab\"/></a>"
      ]
    },
    {
      "cell_type": "markdown",
      "metadata": {
        "id": "QU11kIhpvud_",
        "colab_type": "text"
      },
      "source": [
        "<table width=\"100%\">\n",
        "    <tr>\n",
        "        <td valign=\"top\"><img src=\"https://cdn.ymaws.com/www.abdominalradiology.org/graphics/logo.jpg\"/></td>\n",
        "        <td valign=\"middle\" align=\"right\"><h1>SAR 2020<br/>AI Masters Class</td>\n",
        "    </tr>\n",
        "    <tr>\n",
        "      <td align=\"center\" colspan=2><h1>Intro to Jupyter/Colab</h1></td>\n",
        "    </tr>\n",
        "</table>\n",
        "\n",
        "We are using **Google Colab**, an interactive Python programming environment based on the popular **Jupyter Notebook**.\n",
        "\n",
        "Jupyter Notebooks are not static web pages, but instead are composed of individual 'cells', each a runnable block of code.\n",
        "\n",
        "To execute the code in a cell, place your cursor anywhere inside the cell and press ```<Shift+Enter>```.\n",
        "\n",
        "Try executing this cell now.\n",
        "\n",
        "---\n",
        "\n",
        "\n",
        "\n"
      ]
    },
    {
      "cell_type": "markdown",
      "metadata": {
        "id": "0K-eb1H0xvMs",
        "colab_type": "text"
      },
      "source": [
        "Not much happened - that's because the cell you ran didn't have any executable code.\n",
        "\n",
        "Cells can contain plain text, like this and the previous one, or they can contain Python code. In either case, you can press ```<Shift+Enter>``` to 'run' the cell and advance to the next one, whether you are in a text cell or a code cell.\n",
        "\n",
        "Try executing the code in the next cell.\n",
        "\n",
        "\n",
        "---\n",
        "\n"
      ]
    },
    {
      "cell_type": "code",
      "metadata": {
        "id": "sfwPTVHovq8a",
        "colab_type": "code",
        "colab": {}
      },
      "source": [
        "3+4"
      ],
      "execution_count": 0,
      "outputs": []
    },
    {
      "cell_type": "markdown",
      "metadata": {
        "id": "3ZkICey0ybPS",
        "colab_type": "text"
      },
      "source": [
        "**Great!** That was a code cell. Notice that the output prints right after the cell. This is part of what makes Jupyter Notebook such a great way to learn Python - you can test in real time as you are writing.\n",
        "\n",
        "\n",
        "---\n",
        "\n"
      ]
    },
    {
      "cell_type": "markdown",
      "metadata": {
        "id": "ji9VWLtL5WkK",
        "colab_type": "text"
      },
      "source": [
        "This Notebook is running on a virtual computer (VM) running a linux operating system created on-the-fly for the sole purpose of running this notebook.\n",
        "\n",
        "Like any computer the VM has a file system, and we have access to it - later on we'll be creating specific files and directories to save our images to.\n",
        "\n",
        "We can even run commands *on the VM* rather than in this Notebook by adding an ```!``` to the start of the command and then using any standard linux command line functions.\n",
        "\n",
        "For example, to figure out what directory we are currently working in - the **p**resent **w**orking **d**irectory - we'll run:\n",
        "\n",
        "```! pwd```"
      ]
    },
    {
      "cell_type": "code",
      "metadata": {
        "id": "_GRP3cc06rSy",
        "colab_type": "code",
        "colab": {}
      },
      "source": [
        "! pwd"
      ],
      "execution_count": 0,
      "outputs": []
    },
    {
      "cell_type": "markdown",
      "metadata": {
        "id": "qUDwNHyB-Dd5",
        "colab_type": "text"
      },
      "source": [
        "To list the contents of the current directory, we'll run:\n",
        "\n",
        "```! ls```"
      ]
    },
    {
      "cell_type": "code",
      "metadata": {
        "id": "qhtQk_Xm9bRz",
        "colab_type": "code",
        "colab": {}
      },
      "source": [
        "! ls"
      ],
      "execution_count": 0,
      "outputs": []
    },
    {
      "cell_type": "markdown",
      "metadata": {
        "id": "dkJaLzCr6x0g",
        "colab_type": "text"
      },
      "source": [
        "So it seems the current directory is ```/content``` and it contains a subdirectory called ```sample_data```. To **c**hange **d**irectories, we can use the ```cd``` command, so:\n",
        "\n",
        "```! cd sample_data && ls``` will change directories (```cd```) into the sample_data subdirectory and then (```&&```) list its contents (```ls```)"
      ]
    },
    {
      "cell_type": "code",
      "metadata": {
        "id": "nM842c8P7C4_",
        "colab_type": "code",
        "colab": {}
      },
      "source": [
        "! cd sample_data && ls"
      ],
      "execution_count": 0,
      "outputs": []
    },
    {
      "cell_type": "markdown",
      "metadata": {
        "id": "rpc0x2Jm7Qhx",
        "colab_type": "text"
      },
      "source": [
        "Colab Notebooks come preconfigured with these sample data files. We won't be using them, but it is good to know how to navigate around the VM directories.\n",
        "\n",
        "\n",
        "---\n",
        "\n"
      ]
    },
    {
      "cell_type": "markdown",
      "metadata": {
        "id": "7XkJ50-dzxcM",
        "colab_type": "text"
      },
      "source": [
        "To help make sense of the next notebooks, which contain more complicated coding concepts, here are some basic references:"
      ]
    },
    {
      "cell_type": "code",
      "metadata": {
        "id": "7CUVQZHfyIwo",
        "colab_type": "code",
        "colab": {}
      },
      "source": [
        "# COMMENTS are lines text in a code cell each preceded by a hashtag (#).\n",
        "# Commented text is not executed but it is good practice for programmers to \n",
        "# explain what a particular block of code does.\n",
        "\n",
        "# A different format for adding comments is to enclose text in three consecutive double quotes\n",
        "# This format is good when the comment spans multiple lines since the quotes \n",
        "# only need to be added to the start and end of the comment, not on each line\n",
        "# It is often used to describe the arguments (input) and return (output)\n",
        "# of a function:\n",
        "import math\n",
        "def vol_ellipsoid(dims):\n",
        "  \"\"\"Calculates the volume of an ellipsoid provided the three perpendicular dimensions\n",
        "    args:\n",
        "      [x,y,z] dimensions\n",
        "    returns:\n",
        "      volume, calculated as  pi/6 * a * b * c \n",
        "    \"\"\"\n",
        "  a, b, c = dims\n",
        "  return math.pi/6 * a * b * c"
      ],
      "execution_count": 0,
      "outputs": []
    },
    {
      "cell_type": "code",
      "metadata": {
        "id": "RMqrSdc21v-n",
        "colab_type": "code",
        "colab": {}
      },
      "source": [
        "# After we've defined a function, we can 'call' it:\n",
        "vol_ellipsoid([12, 6, 5.5])"
      ],
      "execution_count": 0,
      "outputs": []
    },
    {
      "cell_type": "code",
      "metadata": {
        "id": "bAuwmH2B2n7s",
        "colab_type": "code",
        "colab": {}
      },
      "source": [
        "kidney_dimensions = [12, 6, 5.5]\n",
        "\n",
        "# We can add functions to our code by importing python modules from existing code repositories.\n",
        "# Here we are importing the Decimal function from the decimal module\n",
        "from decimal import Decimal\n",
        "\n",
        "# And then use those imported functions to manipulate data.\n",
        "# Here we are reformatting the volume of our ellipsoid into scientific notation using the Decimal function from the decimal Python library:\n",
        "kidney_volume = '%.2f' % Decimal(vol_ellipsoid(kidney_dimensions))\n",
        "print(kidney_volume)"
      ],
      "execution_count": 0,
      "outputs": []
    },
    {
      "cell_type": "code",
      "metadata": {
        "id": "H0Ho9-eq2HKU",
        "colab_type": "code",
        "colab": {}
      },
      "source": [
        "#We can also create arbitrary data constructs to store and later retrieve information\n",
        "class Person:\n",
        "  def __init__(self, firstname, lastname, institution):\n",
        "    self.firstname = firstname\n",
        "    self.lastname = lastname\n",
        "    self.institution = institution"
      ],
      "execution_count": 0,
      "outputs": []
    },
    {
      "cell_type": "code",
      "metadata": {
        "id": "hGYOUx422IaP",
        "colab_type": "code",
        "colab": {}
      },
      "source": [
        "# Define an empty list called Instructors\n",
        "instructors = []\n",
        "instructors"
      ],
      "execution_count": 0,
      "outputs": []
    },
    {
      "cell_type": "code",
      "metadata": {
        "id": "hu7SzwodjOR8",
        "colab_type": "code",
        "colab": {}
      },
      "source": [
        "# Add to the instructors list\n",
        "george = Person('George', 'Shih', 'Cornell')\n",
        "marc = Person('Marc', 'Kohli', 'UCSF')\n",
        "andrew = Person('Andrew', 'Smith', 'UAB')\n",
        "# Append items one-at-a-time\n",
        "instructors.append(george)\n",
        "instructors.append(marc)\n",
        "instructors.append(andrew)\n",
        "\n",
        "# Alternatively, we could have used extend to add multiple items to the list\n",
        "# instructors.extend((george, marc, andrew))"
      ],
      "execution_count": 0,
      "outputs": []
    },
    {
      "cell_type": "code",
      "metadata": {
        "id": "Vr5fXClD3S9d",
        "colab_type": "code",
        "colab": {}
      },
      "source": [
        "instructors"
      ],
      "execution_count": 0,
      "outputs": []
    },
    {
      "cell_type": "code",
      "metadata": {
        "id": "9NWI83gg3zot",
        "colab_type": "code",
        "colab": {}
      },
      "source": [
        "instructors[0]"
      ],
      "execution_count": 0,
      "outputs": []
    },
    {
      "cell_type": "code",
      "metadata": {
        "id": "tMuhymGH31L8",
        "colab_type": "code",
        "colab": {}
      },
      "source": [
        "instructors[0].firstname"
      ],
      "execution_count": 0,
      "outputs": []
    },
    {
      "cell_type": "code",
      "metadata": {
        "id": "APwz2cna33jt",
        "colab_type": "code",
        "colab": {}
      },
      "source": [
        "print(\"Today's instructors are:\")\n",
        "\n",
        "for p in instructors:\n",
        "  print(\"  * %s %s (%s)\" % (p.firstname, p.lastname, p.institution))"
      ],
      "execution_count": 0,
      "outputs": []
    },
    {
      "cell_type": "code",
      "metadata": {
        "id": "PNctVmjVjvPU",
        "colab_type": "code",
        "colab": {}
      },
      "source": [
        "# We can continue to add and remove entries from the Instructors list\n",
        "instructors.append(Person('Thomas', 'Loehfelm', 'UC Davis'))\n",
        "\n",
        "print(\"Today's instructors are:\")\n",
        "\n",
        "for p in instructors:\n",
        "  print(\"  * %s %s (%s)\" % (p.firstname, p.lastname, p.institution))"
      ],
      "execution_count": 0,
      "outputs": []
    },
    {
      "cell_type": "code",
      "metadata": {
        "id": "cTqmuQMvj3Zy",
        "colab_type": "code",
        "colab": {}
      },
      "source": [
        "# We can sort the list of instructors by their first name (or any other property of the Person class)\n",
        "print(\"Today's instructors are:\")\n",
        "\n",
        "for p in sorted(instructors, key=lambda p: p.firstname):\n",
        "  print(\"  * %s %s (%s)\" % (p.firstname, p.lastname, p.institution))"
      ],
      "execution_count": 0,
      "outputs": []
    },
    {
      "cell_type": "code",
      "metadata": {
        "id": "u74x6LNypPJA",
        "colab_type": "code",
        "colab": {}
      },
      "source": [
        ""
      ],
      "execution_count": 0,
      "outputs": []
    }
  ]
}