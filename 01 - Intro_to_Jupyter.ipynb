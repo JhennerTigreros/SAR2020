{
  "nbformat": 4,
  "nbformat_minor": 0,
  "metadata": {
    "colab": {
      "name": "SAR2020 - Intro to Jupyter.ipynb",
      "provenance": [],
      "collapsed_sections": [],
      "toc_visible": true,
      "authorship_tag": "ABX9TyNRjih5GgkKhqAAbcKcOrOu",
      "include_colab_link": true
    },
    "kernelspec": {
      "name": "python3",
      "display_name": "Python 3"
    }
  },
  "cells": [
    {
      "cell_type": "markdown",
      "metadata": {
        "id": "view-in-github",
        "colab_type": "text"
      },
      "source": [
        "<a href=\"https://colab.research.google.com/github/twloehfelm/SAR2020/blob/master/01%20-%20Intro_to_Jupyter.ipynb\" target=\"_parent\"><img src=\"https://colab.research.google.com/assets/colab-badge.svg\" alt=\"Open In Colab\"/></a>"
      ]
    },
    {
      "cell_type": "markdown",
      "metadata": {
        "id": "QU11kIhpvud_",
        "colab_type": "text"
      },
      "source": [
        "<table width=\"100%\">\n",
        "    <tr>\n",
        "        <td valign=\"top\"><img src=\"https://cdn.ymaws.com/www.abdominalradiology.org/graphics/logo.jpg\"/></td>\n",
        "        <td valign=\"middle\" align=\"right\"><h1>SAR 2020<br/>AI Masters Class</td>\n",
        "    </tr>\n",
        "    <tr>\n",
        "      <td align=\"center\" colspan=2><h1>Intro to Jupyter/Colab</h1></td>\n",
        "    </tr>\n",
        "</table>\n",
        "\n",
        "We are using **Google Colab**, an interactive Python programming environment based on the popular **Jupyter Notebook**.\n",
        "\n",
        "Jupyter Notebooks are not static web pages, but instead are composed of individual 'cells', each a runnable block of code.\n",
        "\n",
        "To execute the code in a cell, place your cursor anywhere inside the cell and press ```<Shift+Enter>```.\n",
        "\n",
        "Try executing this cell now.\n",
        "\n",
        "---\n",
        "\n",
        "\n",
        "\n"
      ]
    },
    {
      "cell_type": "markdown",
      "metadata": {
        "id": "0K-eb1H0xvMs",
        "colab_type": "text"
      },
      "source": [
        "Not much happened - that's because the cell you ran didn't have any executable code.\n",
        "\n",
        "Cells can contain plain text, like this and the previous one, or they can contain Python code. In either case, you can press ```<Shift+Enter>``` to 'run' the cell and advance to the next one, whether you are in a text cell or a code cell.\n",
        "\n",
        "Try executing the code in the next cell.\n",
        "\n",
        "\n",
        "---\n",
        "\n"
      ]
    },
    {
      "cell_type": "code",
      "metadata": {
        "id": "sfwPTVHovq8a",
        "colab_type": "code",
        "outputId": "4a90a4bc-217e-41d9-b5fe-12ca8399194a",
        "colab": {
          "base_uri": "https://localhost:8080/",
          "height": 34
        }
      },
      "source": [
        "3+4"
      ],
      "execution_count": 0,
      "outputs": [
        {
          "output_type": "execute_result",
          "data": {
            "text/plain": [
              "7"
            ]
          },
          "metadata": {
            "tags": []
          },
          "execution_count": 1
        }
      ]
    },
    {
      "cell_type": "markdown",
      "metadata": {
        "id": "3ZkICey0ybPS",
        "colab_type": "text"
      },
      "source": [
        "**Great!** That was a code cell. Notice that the output prints right after the cell. This is part of what makes Jupyter Notebook such a great way to learn Python - you can test in real time as you are writing.\n",
        "\n",
        "\n",
        "---\n",
        "\n"
      ]
    },
    {
      "cell_type": "markdown",
      "metadata": {
        "id": "ji9VWLtL5WkK",
        "colab_type": "text"
      },
      "source": [
        "This Notebook is running on a virtual computer (VM) running a linux operating system created on-the-fly for the sole purpose of running this notebook.\n",
        "\n",
        "Like any computer the VM has a file system, and we have access to it - later on we'll be creating specific files and directories to save our images to.\n",
        "\n",
        "We can even run commands *on the VM* rather than in this Notebook by adding an ```!``` to the start of the command and then using any standard linux command line functions.\n",
        "\n",
        "For example, to figure out what directory we are currently working in - the **p**resent **w**orking **d**irectory - we'll run:\n",
        "\n",
        "```! pwd```"
      ]
    },
    {
      "cell_type": "code",
      "metadata": {
        "id": "_GRP3cc06rSy",
        "colab_type": "code",
        "outputId": "3473f5a0-2040-42a9-aae6-ca4218728e5d",
        "colab": {
          "base_uri": "https://localhost:8080/",
          "height": 34
        }
      },
      "source": [
        "! pwd"
      ],
      "execution_count": 0,
      "outputs": [
        {
          "output_type": "stream",
          "text": [
            "/content\n"
          ],
          "name": "stdout"
        }
      ]
    },
    {
      "cell_type": "markdown",
      "metadata": {
        "id": "qUDwNHyB-Dd5",
        "colab_type": "text"
      },
      "source": [
        "To list the contents of the current directory, we'll run:\n",
        "\n",
        "```! ls```"
      ]
    },
    {
      "cell_type": "code",
      "metadata": {
        "id": "qhtQk_Xm9bRz",
        "colab_type": "code",
        "outputId": "4d1da7db-543b-4201-bf7d-75b02074dc67",
        "colab": {
          "base_uri": "https://localhost:8080/",
          "height": 34
        }
      },
      "source": [
        "! ls"
      ],
      "execution_count": 0,
      "outputs": [
        {
          "output_type": "stream",
          "text": [
            "sample_data\n"
          ],
          "name": "stdout"
        }
      ]
    },
    {
      "cell_type": "markdown",
      "metadata": {
        "id": "dkJaLzCr6x0g",
        "colab_type": "text"
      },
      "source": [
        "So it seems the current directory is ```/content``` and it contains a subdirectory called ```sample_data```. To **c**hange **d**irectories, we can use the ```cd``` command, so:\n",
        "\n",
        "```! cd sample_data && ls``` will change directories (```cd```) into the sample_data subdirectory and then (```&&```) list its contents (```ls```)"
      ]
    },
    {
      "cell_type": "code",
      "metadata": {
        "id": "nM842c8P7C4_",
        "colab_type": "code",
        "colab": {}
      },
      "source": [
        "! cd sample_data && ls"
      ],
      "execution_count": 0,
      "outputs": []
    },
    {
      "cell_type": "markdown",
      "metadata": {
        "id": "rpc0x2Jm7Qhx",
        "colab_type": "text"
      },
      "source": [
        "Colab Notebooks come preconfigured with these sample data files. We won't be using them, but it is good to know how to navigate around the VM directories.\n",
        "\n",
        "\n",
        "---\n",
        "\n"
      ]
    },
    {
      "cell_type": "markdown",
      "metadata": {
        "id": "7XkJ50-dzxcM",
        "colab_type": "text"
      },
      "source": [
        "To help make sense of the next notebooks, which contain more complicated coding concepts, here are some basic references:"
      ]
    },
    {
      "cell_type": "code",
      "metadata": {
        "id": "7CUVQZHfyIwo",
        "colab_type": "code",
        "colab": {}
      },
      "source": [
        "# COMMENTS are lines text in a code cell each preceded by a hashtag (#).\n",
        "# Commented text is not executed but it is good practice for programmers to \n",
        "# explain what a particular block of code does.\n",
        "\n",
        "# A different format for adding comments is to enclose text in three consecutive double quotes\n",
        "# This format is good when the comment spans multiple lines since the quotes \n",
        "# only need to be added to the start and end of the comment, not on each line\n",
        "# It is often used to describe the arguments (input) and return (output)\n",
        "# of a function:\n",
        "import math\n",
        "def vol_ellipsoid(dims):\n",
        "  \"\"\"Calculates the volume of an ellipsoid provided the three perpendicular dimensions\n",
        "    args:\n",
        "      [x,y,z] dimensions\n",
        "    returns:\n",
        "      volume, calculated as  pi/6 * a * b * c \n",
        "    \"\"\"\n",
        "  a, b, c = dims\n",
        "  return math.pi/6 * a * b * c"
      ],
      "execution_count": 0,
      "outputs": []
    },
    {
      "cell_type": "code",
      "metadata": {
        "id": "RMqrSdc21v-n",
        "colab_type": "code",
        "outputId": "02ed668e-9f7e-4713-a128-524f26b20814",
        "colab": {
          "base_uri": "https://localhost:8080/",
          "height": 34
        }
      },
      "source": [
        "# After we've defined a function, we can 'call' it:\n",
        "vol_ellipsoid([12, 6, 5.5])"
      ],
      "execution_count": 12,
      "outputs": [
        {
          "output_type": "execute_result",
          "data": {
            "text/plain": [
              "207.34511513692635"
            ]
          },
          "metadata": {
            "tags": []
          },
          "execution_count": 12
        }
      ]
    },
    {
      "cell_type": "code",
      "metadata": {
        "id": "bAuwmH2B2n7s",
        "colab_type": "code",
        "colab": {
          "base_uri": "https://localhost:8080/",
          "height": 34
        },
        "outputId": "ec2083ad-2879-494a-e36d-7c4845d7140d"
      },
      "source": [
        "kidney_dimensions = [12, 6, 5.5]\n",
        "\n",
        "# We can add functions to our code by importing python modules from existing code repositories.\n",
        "# Here we are importing the Decimal function from the decimal module\n",
        "from decimal import Decimal\n",
        "\n",
        "# And then use those imported functions to manipulate data.\n",
        "# Here we are reformatting the surface area of the sun into scientific notation using the Decimal function from the decimal Python library:\n",
        "kidney_volume = '%.2f' % Decimal(vol_ellipsoid(kidney_dimensions))\n",
        "print(kidney_volume)"
      ],
      "execution_count": 14,
      "outputs": [
        {
          "output_type": "stream",
          "text": [
            "207.35\n"
          ],
          "name": "stdout"
        }
      ]
    },
    {
      "cell_type": "code",
      "metadata": {
        "id": "H0Ho9-eq2HKU",
        "colab_type": "code",
        "colab": {}
      },
      "source": [
        "#We can also create arbitrary data constructs to store and later retrieve information\n",
        "class Person:\n",
        "  def __init__(self, firstname, lastname, institution):\n",
        "    self.firstname = firstname\n",
        "    self.lastname = lastname\n",
        "    self.institution = institution"
      ],
      "execution_count": 0,
      "outputs": []
    },
    {
      "cell_type": "code",
      "metadata": {
        "id": "hGYOUx422IaP",
        "colab_type": "code",
        "colab": {}
      },
      "source": [
        "instructors = []\n",
        "instructors.append(Person('Thomas', 'Loehfelm', 'UC Davis'))\n",
        "instructors.append(Person('George', 'Shih', 'Cornell'))\n",
        "instructors.append(Person('Marc', 'Kohli', 'UCSF'))\n",
        "instructors.append(Person('Andrew', 'Smith', 'UAB'))"
      ],
      "execution_count": 0,
      "outputs": []
    },
    {
      "cell_type": "code",
      "metadata": {
        "id": "Vr5fXClD3S9d",
        "colab_type": "code",
        "colab": {
          "base_uri": "https://localhost:8080/",
          "height": 84
        },
        "outputId": "d53d4753-df71-49a0-bf45-816478252416"
      },
      "source": [
        "instructors"
      ],
      "execution_count": 19,
      "outputs": [
        {
          "output_type": "execute_result",
          "data": {
            "text/plain": [
              "[<__main__.Person at 0x7fcd5f6ae400>,\n",
              " <__main__.Person at 0x7fcd5f6ae390>,\n",
              " <__main__.Person at 0x7fcd5f6ae438>,\n",
              " <__main__.Person at 0x7fcd5f76b438>]"
            ]
          },
          "metadata": {
            "tags": []
          },
          "execution_count": 19
        }
      ]
    },
    {
      "cell_type": "code",
      "metadata": {
        "id": "b0M4pV0Q3vVP",
        "colab_type": "code",
        "colab": {
          "base_uri": "https://localhost:8080/",
          "height": 34
        },
        "outputId": "3b8dd0f7-2d32-46a8-a5c2-6684f87affca"
      },
      "source": [
        "len(instructors)"
      ],
      "execution_count": 20,
      "outputs": [
        {
          "output_type": "execute_result",
          "data": {
            "text/plain": [
              "4"
            ]
          },
          "metadata": {
            "tags": []
          },
          "execution_count": 20
        }
      ]
    },
    {
      "cell_type": "code",
      "metadata": {
        "id": "9NWI83gg3zot",
        "colab_type": "code",
        "colab": {
          "base_uri": "https://localhost:8080/",
          "height": 34
        },
        "outputId": "0f3a68cf-5e67-47e3-f96c-ee6b505b3c3d"
      },
      "source": [
        "instructors[0]"
      ],
      "execution_count": 21,
      "outputs": [
        {
          "output_type": "execute_result",
          "data": {
            "text/plain": [
              "<__main__.Person at 0x7fcd5f6ae400>"
            ]
          },
          "metadata": {
            "tags": []
          },
          "execution_count": 21
        }
      ]
    },
    {
      "cell_type": "code",
      "metadata": {
        "id": "tMuhymGH31L8",
        "colab_type": "code",
        "colab": {
          "base_uri": "https://localhost:8080/",
          "height": 34
        },
        "outputId": "587adf5e-ad45-40d4-db7b-6616c14938f6"
      },
      "source": [
        "instructors[0].firstname"
      ],
      "execution_count": 22,
      "outputs": [
        {
          "output_type": "execute_result",
          "data": {
            "text/plain": [
              "'Thomas'"
            ]
          },
          "metadata": {
            "tags": []
          },
          "execution_count": 22
        }
      ]
    },
    {
      "cell_type": "code",
      "metadata": {
        "id": "APwz2cna33jt",
        "colab_type": "code",
        "colab": {
          "base_uri": "https://localhost:8080/",
          "height": 101
        },
        "outputId": "31ad9bcb-f7ee-49ca-c1bd-6b8a341ad71b"
      },
      "source": [
        "print(\"Today's instructors are:\")\n",
        "\n",
        "for p in instructors:\n",
        "  print(\"  -> %s %s from %s\" % (p.firstname, p.lastname, p.institution))"
      ],
      "execution_count": 28,
      "outputs": [
        {
          "output_type": "stream",
          "text": [
            "Today's instructors are:\n",
            "  -> Thomas Loehfelm from UC Davis\n",
            "  -> George Shih from Cornell\n",
            "  -> Marc Kohli from UCSF\n",
            "  -> Andrew Smith from UAB\n"
          ],
          "name": "stdout"
        }
      ]
    }
  ]
}