{
 "cells": [
  {
   "cell_type": "markdown",
   "metadata": {
    "colab_type": "text",
    "id": "view-in-github"
   },
   "source": [
    "<a href=\"https://colab.research.google.com/github/twloehfelm/SAR2020/blob/master/03%20-%20Image_Classifier.ipynb\" target=\"_parent\"><img src=\"https://colab.research.google.com/assets/colab-badge.svg\" alt=\"Open In Colab\"/></a>"
   ]
  },
  {
   "cell_type": "markdown",
   "metadata": {
    "colab_type": "text",
    "id": "SkHz0FVN6F8u"
   },
   "source": [
    "<table width=\"100%\">\n",
    "    <tr>\n",
    "        <td valign=\"top\"><img src=\"https://cdn.ymaws.com/www.abdominalradiology.org/graphics/logo.jpg\"/></td>\n",
    "        <td valign=\"middle\" align=\"right\"><h1>SAR 2020<br/>AI Masters Class</h1></td>\n",
    "    </tr>\n",
    "    <tr>\n",
    "      <td align=\"center\" colspan=2><h1>Image Classifier</h1></td>\n",
    "    </tr>\n",
    "</table>\n"
   ]
  },
  {
   "cell_type": "markdown",
   "metadata": {
    "colab_type": "text",
    "id": "fE8-a8NmyNGR"
   },
   "source": [
    "**CHEST XRAY CLASSIFIER**\n",
    "\n",
    "Construyamos un clasificador de imágenes desde cero y veamos si podemos usarlo para diferenciar las radiografías de tórax frontales de las laterales.\n",
    "\n",
    "Las radiografías de tórax frontal y lateral son tan similares dentro de una clase y tan diferentes entre clases que diferenciarlas es una tarea trivial para una red neuronal. Pero, puede usar el * mismo código exacto * para entrenar al clasificador para diferenciar cualquier otra clase de imágenes:\n",
    "\n",
    "* Neumotórax vs neumonía vs normal\n",
    "* Accidente cerebrovascular vs sin accidente cerebrovascular\n",
    "* HCC vs adenoma\n",
    "* Perro caliente vs no un perro caliente\n",
    "\n",
    "Cuanto más sutiles sean las diferencias entre tus clases, más datos de entrenamiento (y tiempo) necesitarás.\n",
    "\n",
    "---\n",
    "\n",
    "Este tutorial se basa en la Lección 1 de Practical Deep Learning for Coders v3, un curso gratuito que ofrece [fast.ai] (https://course.fast.ai/). Recomiendo encarecidamente a todos los interesados que visiten fast.ai para obtener más información: es el mejor recurso que existe para aprender y ponerse al día en la clasificación de imágenes, así como en tareas más avanzadas como detección de objetos, segmentación de imágenes y procesamiento del lenguaje natural.\n"
   ]
  },
  {
   "cell_type": "code",
   "execution_count": null,
   "metadata": {
    "colab": {},
    "colab_type": "code",
    "id": "lCxnQYu5EF7l"
   },
   "outputs": [],
   "source": [
    "!pip3 install fastai | grep -v 'already satisfied'\n",
    "from fastai.vision import *\n",
    "from fastai.metrics import error_rate\n",
    "from fastai.callbacks.hooks import *\n",
    "from fastai.imports import *\n",
    "from fastai import *\n",
    "\n",
    "import os"
   ]
  },
  {
   "cell_type": "code",
   "execution_count": null,
   "metadata": {
    "colab": {},
    "colab_type": "code",
    "id": "CygcMgenCkXv"
   },
   "outputs": [],
   "source": [
    "!rm -rf images\n",
    "!rm -rf sample_data \n",
    "\n",
    "!wget -q --no-check-certificate 'https://www.dropbox.com/s/p32oela6ac63d7e/cxr.zip' -O ./cxr.zip\n",
    "!mkdir images\n",
    "!cd images; unzip -q \"../cxr.zip\" \n",
    "!rm -rf ./images/__MACOSX\n",
    "!ls images"
   ]
  },
  {
   "cell_type": "code",
   "execution_count": null,
   "metadata": {
    "colab": {},
    "colab_type": "code",
    "id": "vK8BKS3wtkiP"
   },
   "outputs": [],
   "source": [
    "# Guarde la ruta a nuestro directorio de imágenes en una variable llamada ruta\n",
    "path = Path('/content/images/cxr/')\n",
    "# get_image_files es una función de conveniencia de fastai.vision que busca en `path` y devuelve una lista de todos los archivos de imagen que encuentra\n",
    "filenames = get_image_files(path)"
   ]
  },
  {
   "cell_type": "code",
   "execution_count": null,
   "metadata": {
    "colab": {},
    "colab_type": "code",
    "id": "nbpsGOQZsICK"
   },
   "outputs": [],
   "source": [
    "print(filenames[99])"
   ]
  },
  {
   "cell_type": "markdown",
   "metadata": {
    "colab_type": "text",
    "id": "K_GwBZsHz_JF"
   },
   "source": [
    "Como puede ver en el nombre de archivo de ejemplo, la * clase de imagen * está codificada en el nombre del archivo. Este es un método común de etiquetar imágenes para el aprendizaje automático: garantiza que la etiqueta correcta siempre esté asociada con cada imagen en lugar de en un archivo separado.\n",
    "\n",
    "Todas las imágenes se nombran de manera coherente:\n",
    "> `{class}_{serial number}.jpg`\n",
    "\n",
    "> `frontal_0001.jpg`, `lateral_0056.jpg`, etc.\n",
    "\n",
    "---\n",
    "** Protip **\n",
    "\n",
    "Cuando puede identificar un * patrón * que aísla el texto que desea de una cadena más larga, puede usar * expresiones regulares *, o * RegEx *, para extraer el texto. El patrón RegEx para extraer la clase (frontal o lateral) de la ruta completa del archivo ('/content/images/cxr/lateral_0062.jpg') es:\n",
    "\n",
    "> **`/([^/]+)_\\d+.jpg$`**\n",
    "\n",
    "\n",
    "Guardaremos este patrón RegEx como una variable llamada `pattern`.\n",
    "Obtenga más información sobre RegEx y practique en [Pythex.org] (https://pythex.org/).\n"
   ]
  },
  {
   "cell_type": "code",
   "execution_count": null,
   "metadata": {
    "colab": {},
    "colab_type": "code",
    "id": "ui-f4z6-0RRY"
   },
   "outputs": [],
   "source": [
    "pattern = re.compile(r'/([^/]+)_\\d+.jpg$')"
   ]
  },
  {
   "cell_type": "code",
   "execution_count": null,
   "metadata": {
    "colab": {},
    "colab_type": "code",
    "id": "Q_-_FuC20UL8"
   },
   "outputs": [],
   "source": [
    "# Establezca los argumentos necesarios para fastai ImageDataBunch\n",
    "validation_percentage=0.5 #Haremos una división 50:50: entrenar al 50%, validar al 50%\n",
    "batchsize = 8 # Pesos de red actualizados después de cada lote. El tamaño depende de la memoria de la GPU y del tamaño de la imagen\n",
    "imagesize=224 # Las imágenes cambiarán de tamaño a 224x224 px\n",
    "# Aplicar transformaciones de imagen aleatorias: volteo horizontal, pequeñas rotaciones, etc.\n",
    "# Básicamente multiplica la cantidad de imágenes únicas disponibles\n",
    "transforms = get_transforms()\n",
    "np.random.seed(25)"
   ]
  },
  {
   "cell_type": "code",
   "execution_count": null,
   "metadata": {
    "colab": {},
    "colab_type": "code",
    "id": "ERzQpFjvDN9M"
   },
   "outputs": [],
   "source": [
    "# Un ImageDataBunch es una construcción de datos rápida que ensambla las imágenes y la configuración requerida\n",
    "# y los prepara para cargarlos en la red neuronal.\n",
    "# Las diferentes bibliotecas de aprendizaje automático tienen semánticas ligeramente diferentes para estos objetos de carga de datos\n",
    "data = ImageDataBunch.from_name_re(\n",
    "    path, \n",
    "    filenames, \n",
    "    pattern, \n",
    "    valid_pct=validation_percentage, \n",
    "    ds_tfms = transforms, \n",
    "    size=imagesize, \n",
    "    bs=batchsize).normalize(imagenet_stats)"
   ]
  },
  {
   "cell_type": "code",
   "execution_count": null,
   "metadata": {
    "colab": {},
    "colab_type": "code",
    "id": "Ajs0QFo80h3E"
   },
   "outputs": [],
   "source": [
    "# Podemos mirar ImageDataBunch y ver que contiene conjuntos de datos de validación y entrenamiento separados\n",
    "data"
   ]
  },
  {
   "cell_type": "code",
   "execution_count": null,
   "metadata": {
    "colab": {},
    "colab_type": "code",
    "id": "sgyjvAAN0nxQ"
   },
   "outputs": [],
   "source": [
    "# ImageDataBunch tiene dos clases [frontal, lateral], y 50 imágenes cada una en los conjuntos de datos de entrenamiento y validación\n",
    "data.classes, data.c, len(data.train_ds), len(data.valid_ds)"
   ]
  },
  {
   "cell_type": "code",
   "execution_count": null,
   "metadata": {
    "colab": {},
    "colab_type": "code",
    "id": "e10lFyR30rO5"
   },
   "outputs": [],
   "source": [
    "# Podemos mostrar un lote de 8 imágenes con sus etiquetas asociadas de verdad fundamental\n",
    "# Tenga en cuenta que algunas de las imágenes se han volteado horizontalmente de forma arbitraria\n",
    "data.show_batch(rows=3, figsize=(10,8))"
   ]
  },
  {
   "cell_type": "code",
   "execution_count": null,
   "metadata": {
    "colab": {},
    "colab_type": "code",
    "id": "459DWI6I1f8r"
   },
   "outputs": [],
   "source": [
    "# Construya el alumno de la red neuronal pasándole nuestro ImageDataBunch\n",
    "# Tenga en cuenta que lo estamos basando en una red existente, llamada Resnet34\n",
    "# Resnet34 está preentrenado en ImageNet, que aprendió de millones de imágenes regulares\n",
    "# Esperamos transferir lo que ImageNet ya sabe al dominio CXR\n",
    "learn = cnn_learner(\n",
    "    data,\n",
    "    models.resnet34,\n",
    "    metrics=(error_rate, accuracy)\n",
    ")"
   ]
  },
  {
   "cell_type": "code",
   "execution_count": null,
   "metadata": {
    "colab": {},
    "colab_type": "code",
    "id": "s4RnVd_T1WwU"
   },
   "outputs": [],
   "source": [
    "# ¡Finalmente comenzaremos a entrenar la red!\n",
    "# Haremos que revise las 50 imágenes de entrenamiento 4 veces\n",
    "# Cada vez a lo largo de todo el conjunto de entrenamiento se denomina una época\n",
    "# Recuerde que definimos un lote como 8 imágenes, por lo que después de cada 8 imágenes la red ajustará su configuración\n",
    "# Después de cada época, informará su tasa de error actual y precisión\n",
    "learn.fit_one_cycle(4)"
   ]
  },
  {
   "cell_type": "code",
   "execution_count": null,
   "metadata": {
    "colab": {},
    "colab_type": "code",
    "id": "KwoDrYxg2oFP"
   },
   "outputs": [],
   "source": [
    "# Podemos guardar el modelo entrenado y usarlo más tarde para evaluar nuevos CXR\n",
    "learn.save('cxr-frontlat-stage1')\n",
    "learn.export()"
   ]
  },
  {
   "cell_type": "code",
   "execution_count": null,
   "metadata": {
    "colab": {},
    "colab_type": "code",
    "id": "XfgX0dew1xqI"
   },
   "outputs": [],
   "source": [
    "# El objetivo de entrenar una red neuronal es \"minimizar la función de pérdida\"\n",
    "# La función de pérdida es una fórmula que cuantifica qué tan lejos del rendimiento perfecto en la tarea asignada está la red.\n",
    "# Después de cada lote, la red mide qué tan lejos de ser perfecto está y ajusta sus parámetros\n",
    "# de tal manera que se acerque un poco más a la perfección.\n",
    "# La cantidad por la cual se ajustan los parámetros está determinada por la Tasa de aprendizaje (LR)\n",
    "learn.recorder.plot_losses()"
   ]
  },
  {
   "cell_type": "code",
   "execution_count": null,
   "metadata": {
    "colab": {},
    "colab_type": "code",
    "id": "MOwYxEs91_ii"
   },
   "outputs": [],
   "source": [
    "# Podemos visualizar los casos en los que la red se equivocó o acertó pero con menos confianza\n",
    "interp = ClassificationInterpretation.from_learner(learn)\n",
    "interp.plot_top_losses(9, figsize=(15,11), heatmap=True)"
   ]
  },
  {
   "cell_type": "code",
   "execution_count": null,
   "metadata": {
    "colab": {},
    "colab_type": "code",
    "id": "nQc8zKfF2G2a"
   },
   "outputs": [],
   "source": [
    "# Una matriz de confusión traza los gráficos predichos vs reales\n",
    "# Es más útil cuando hay varias clases y puedes ver qué clases es confuso para qué otras\n",
    "interp.plot_confusion_matrix(figsize=(3,3), dpi=200)"
   ]
  },
  {
   "cell_type": "code",
   "execution_count": null,
   "metadata": {
    "colab": {},
    "colab_type": "code",
    "id": "T-nvewd54LIG"
   },
   "outputs": [],
   "source": [
    "# Descargue un nuevo lote de radiografías de tórax que no estén relacionadas con las que se usan para entrenar\n",
    "!wget --no-check-certificate 'https://www.dropbox.com/s/639j1pbq12gs107/palat.zip' -O ./palat.zip\n",
    "\n",
    "!cd images; unzip -q \"../palat.zip\" \n",
    "!rm -rf ./images/__MACOSX\n",
    "!ls images"
   ]
  },
  {
   "cell_type": "code",
   "execution_count": null,
   "metadata": {
    "colab": {},
    "colab_type": "code",
    "id": "Pu5yvrSe2uey"
   },
   "outputs": [],
   "source": [
    "# Descargue un nuevo lote de radiografías de tórax que no estén relacionadas con las que se usan para entrenar\n",
    "learn = load_learner('/content/images/cxr/', test=ImageImageList.from_folder('/content/images/palat/test/'))\n",
    "pred,y = learn.get_preds(ds_type=DatasetType.Test)"
   ]
  },
  {
   "cell_type": "code",
   "execution_count": null,
   "metadata": {
    "colab": {},
    "colab_type": "code",
    "id": "9EpDjKnn4gij"
   },
   "outputs": [],
   "source": [
    "# Mire una instantánea de las predicciones - podemos ver que es una lista donde cada entrada son dos números -\n",
    "# la probabilidad que la red asigna a que el CXR dado sea un PA o lateral.\n",
    "# El número más alto se considera la asignación de clase para ese CXR\n",
    "pred[205:210].data.numpy()"
   ]
  },
  {
   "cell_type": "code",
   "execution_count": null,
   "metadata": {
    "colab": {},
    "colab_type": "code",
    "id": "2iXZg-eu4met"
   },
   "outputs": [],
   "source": [
    "# Argmax simplemente elige el índice del mayor número de opciones disponibles\n",
    "# En este caso, elija el número más alto para cada fila en la lista de predicciones\n",
    "lbls = np.argmax(pred, axis=1)\n",
    "lbls[205:210]"
   ]
  },
  {
   "cell_type": "code",
   "execution_count": null,
   "metadata": {},
   "outputs": [],
   "source": [
    "# Recordatorio de cómo se definieron originalmente nuestras clases\n",
    "classes = ['frontal','lateral']\n",
    "print(classes)"
   ]
  },
  {
   "cell_type": "code",
   "execution_count": null,
   "metadata": {},
   "outputs": [],
   "source": [
    "for x in range(205, 210):\n",
    "    print(\"Test Image %d\" % x)\n",
    "    print(\"Network prediction [frontal, lateral]: %s\" % (pred[x]).data.numpy())\n",
    "    print(\"np.argmax of prediction matrix.......: %s\" % (lbls[x]).data.numpy())\n",
    "    print(\"Predicted class......................: %s\" % (classes[lbls[x]]))\n",
    "    print()"
   ]
  },
  {
   "cell_type": "code",
   "execution_count": null,
   "metadata": {
    "colab": {},
    "colab_type": "code",
    "id": "2iXZg-eu4met"
   },
   "outputs": [],
   "source": [
    "# Imprima todas las imágenes de prueba con la etiqueta asignada por nuestra red capacitada\n",
    "ims = learn.data.test_ds.x\n",
    "rows = 40\n",
    "cols = 10\n",
    "figsize=(20,70)\n",
    "fig,axes = plt.subplots(rows,cols,figsize=figsize)\n",
    "fig.suptitle('predictions', weight='bold',size=14)\n",
    "for idx,im in enumerate(ims):\n",
    "  im.show(ax=axes.flat[idx], title=classes[lbls[idx]])"
   ]
  }
 ],
 "metadata": {
  "accelerator": "GPU",
  "colab": {
   "authorship_tag": "ABX9TyMTc1Wq1KGW1SPSzLyX2lPj",
   "collapsed_sections": [],
   "include_colab_link": true,
   "name": "SAR 2020 - Image Classifier.ipynb",
   "provenance": []
  },
  "kernelspec": {
   "display_name": "Python 3",
   "language": "python",
   "name": "python3"
  },
  "language_info": {
   "codemirror_mode": {
    "name": "ipython",
    "version": 3
   },
   "file_extension": ".py",
   "mimetype": "text/x-python",
   "name": "python",
   "nbconvert_exporter": "python",
   "pygments_lexer": "ipython3",
   "version": "3.6.9"
  }
 },
 "nbformat": 4,
 "nbformat_minor": 4
}
