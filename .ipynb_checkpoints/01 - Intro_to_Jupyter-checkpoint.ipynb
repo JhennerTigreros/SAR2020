{
 "cells": [
  {
   "cell_type": "markdown",
   "metadata": {
    "colab_type": "text",
    "id": "view-in-github"
   },
   "source": [
    "<a href=\"https://colab.research.google.com/github/twloehfelm/SAR2020/blob/master/01%20-%20Intro_to_Jupyter.ipynb\" target=\"_parent\"><img src=\"https://colab.research.google.com/assets/colab-badge.svg\" alt=\"Open In Colab\"/></a>"
   ]
  },
  {
   "cell_type": "markdown",
   "metadata": {
    "colab_type": "text",
    "id": "QU11kIhpvud_"
   },
   "source": [
    "<table width=\"100%\">\n",
    "    <tr>\n",
    "        <td valign=\"top\"><img src=\"https://cdn.ymaws.com/www.abdominalradiology.org/graphics/logo.jpg\"/></td>\n",
    "        <td valign=\"middle\" align=\"right\"><h1>SAR 2020<br/>AI Masters Class</td>\n",
    "    </tr>\n",
    "    <tr>\n",
    "      <td align=\"center\" colspan=2><h1>Intro to Jupyter/Colab</h1></td>\n",
    "    </tr>\n",
    "</table>\n",
    "\n",
    "We are using **Google Colab**, an interactive Python programming environment based on the popular **Jupyter Notebook**.\n",
    "\n",
    "Jupyter Notebooks are not static web pages, but instead are composed of individual 'cells', each a runnable block of code.\n",
    "\n",
    "To execute the code in a cell, place your cursor anywhere inside the cell and press ```<Shift+Enter>```.\n",
    "\n",
    "Try executing this cell now.\n",
    "\n",
    "---\n",
    "\n",
    "\n",
    "\n"
   ]
  },
  {
   "cell_type": "markdown",
   "metadata": {
    "colab_type": "text",
    "id": "0K-eb1H0xvMs"
   },
   "source": [
    "Not much happened - that's because the cell you ran didn't have any executable code.\n",
    "\n",
    "Cells can contain plain text, like this and the previous one, or they can contain Python code. In either case, you can press ```<Shift+Enter>``` to 'run' the cell and advance to the next one, whether you are in a text cell or a code cell.\n",
    "\n",
    "Try executing the code in the next cell.\n",
    "\n",
    "\n",
    "---\n",
    "\n"
   ]
  },
  {
   "cell_type": "code",
   "execution_count": 0,
   "metadata": {
    "colab": {},
    "colab_type": "code",
    "id": "sfwPTVHovq8a"
   },
   "outputs": [],
   "source": [
    "3+4"
   ]
  },
  {
   "cell_type": "markdown",
   "metadata": {
    "colab_type": "text",
    "id": "3ZkICey0ybPS"
   },
   "source": [
    "**Great!** That was a code cell. Notice that the output prints right after the cell. This is part of what makes Jupyter Notebook such a great way to learn Python - you can test in real time as you are writing.\n",
    "\n",
    "\n",
    "---\n",
    "\n"
   ]
  },
  {
   "cell_type": "markdown",
   "metadata": {
    "colab_type": "text",
    "id": "ji9VWLtL5WkK"
   },
   "source": [
    "This Notebook is running on a virtual computer (VM) running a linux operating system created on-the-fly for the sole purpose of running this notebook.\n",
    "\n",
    "Like any computer the VM has a file system, and we have access to it - later on we'll be creating specific files and directories to save our images to.\n",
    "\n",
    "We can even run commands *on the VM* rather than in this Notebook by adding an ```!``` to the start of the command and then using any standard linux command line functions.\n",
    "\n",
    "For example, to figure out what directory we are currently working in - the **p**resent **w**orking **d**irectory - we'll run:\n",
    "\n",
    "```! pwd```"
   ]
  },
  {
   "cell_type": "code",
   "execution_count": 0,
   "metadata": {
    "colab": {},
    "colab_type": "code",
    "id": "_GRP3cc06rSy"
   },
   "outputs": [],
   "source": [
    "! pwd"
   ]
  },
  {
   "cell_type": "markdown",
   "metadata": {
    "colab_type": "text",
    "id": "qUDwNHyB-Dd5"
   },
   "source": [
    "To list the contents of the current directory, we'll run:\n",
    "\n",
    "```! ls```"
   ]
  },
  {
   "cell_type": "code",
   "execution_count": 0,
   "metadata": {
    "colab": {},
    "colab_type": "code",
    "id": "qhtQk_Xm9bRz"
   },
   "outputs": [],
   "source": [
    "! ls"
   ]
  },
  {
   "cell_type": "markdown",
   "metadata": {
    "colab_type": "text",
    "id": "dkJaLzCr6x0g"
   },
   "source": [
    "So it seems the current directory is ```/content``` and it contains a subdirectory called ```sample_data```. To **c**hange **d**irectories, we can use the ```cd``` command, so:\n",
    "\n",
    "```! cd sample_data && ls``` will change directories (```cd```) into the sample_data subdirectory and then (```&&```) list its contents (```ls```)"
   ]
  },
  {
   "cell_type": "code",
   "execution_count": 0,
   "metadata": {
    "colab": {},
    "colab_type": "code",
    "id": "nM842c8P7C4_"
   },
   "outputs": [],
   "source": [
    "! cd sample_data && ls"
   ]
  },
  {
   "cell_type": "markdown",
   "metadata": {
    "colab_type": "text",
    "id": "rpc0x2Jm7Qhx"
   },
   "source": [
    "Colab Notebooks come preconfigured with these sample data files. We won't be using them, but it is good to know how to navigate around the VM directories.\n",
    "\n",
    "\n",
    "---\n",
    "\n"
   ]
  },
  {
   "cell_type": "markdown",
   "metadata": {
    "colab_type": "text",
    "id": "7XkJ50-dzxcM"
   },
   "source": [
    "To help make sense of the next notebooks, which contain more complicated coding concepts, here are some basic references:"
   ]
  },
  {
   "cell_type": "code",
   "execution_count": 0,
   "metadata": {
    "colab": {},
    "colab_type": "code",
    "id": "7CUVQZHfyIwo"
   },
   "outputs": [],
   "source": [
    "# COMMENTS are lines of text in a code cell each preceded by a hashtag (#).\n",
    "# Commented text is not executed but it is good practice for programmers to \n",
    "# explain what a particular block of code does.\n",
    "\n",
    "# A different format for adding comments is to enclose text in three consecutive double quotes\n",
    "# This format is good when the comment spans multiple lines since the quotes \n",
    "# only need to be added to the start and end of the comment, not on each line\n",
    "# It is often used to describe the arguments (input) and return (output)\n",
    "# of a function:\n",
    "import math\n",
    "def vol_ellipsoid(dims):\n",
    "  \"\"\"Calculates the volume of an ellipsoid provided the three perpendicular dimensions\n",
    "    args:\n",
    "      [x,y,z] dimensions\n",
    "    returns:\n",
    "      volume, calculated as  pi/6 * a * b * c \n",
    "    \"\"\"\n",
    "  a, b, c = dims\n",
    "  return math.pi/6 * a * b * c"
   ]
  },
  {
   "cell_type": "code",
   "execution_count": 0,
   "metadata": {
    "colab": {},
    "colab_type": "code",
    "id": "RMqrSdc21v-n"
   },
   "outputs": [],
   "source": [
    "# After we've defined a function, we can 'call' it:\n",
    "vol_ellipsoid([12, 6, 5.5])"
   ]
  },
  {
   "cell_type": "code",
   "execution_count": 0,
   "metadata": {
    "colab": {},
    "colab_type": "code",
    "id": "bAuwmH2B2n7s"
   },
   "outputs": [],
   "source": [
    "kidney_dimensions = [12, 6, 5.5]\n",
    "\n",
    "# We can add functions to our code by importing python modules from existing code repositories.\n",
    "# Here we are importing the Decimal function from the decimal module\n",
    "from decimal import Decimal\n",
    "\n",
    "# And then use those imported functions to manipulate data.\n",
    "# Here we are reformatting the volume of our ellipsoid into scientific notation using the Decimal function from the decimal Python library:\n",
    "kidney_volume = '%.2f' % Decimal(vol_ellipsoid(kidney_dimensions))\n",
    "print(kidney_volume)"
   ]
  },
  {
   "cell_type": "code",
   "execution_count": 0,
   "metadata": {
    "colab": {},
    "colab_type": "code",
    "id": "H0Ho9-eq2HKU"
   },
   "outputs": [],
   "source": [
    "#We can also create arbitrary data constructs to store and later retrieve information\n",
    "class Person:\n",
    "  def __init__(self, firstname, lastname, institution):\n",
    "    self.firstname = firstname\n",
    "    self.lastname = lastname\n",
    "    self.institution = institution"
   ]
  },
  {
   "cell_type": "code",
   "execution_count": 0,
   "metadata": {
    "colab": {},
    "colab_type": "code",
    "id": "hGYOUx422IaP"
   },
   "outputs": [],
   "source": [
    "# Define an empty list called Instructors\n",
    "instructors = []\n",
    "instructors"
   ]
  },
  {
   "cell_type": "code",
   "execution_count": 0,
   "metadata": {
    "colab": {},
    "colab_type": "code",
    "id": "hu7SzwodjOR8"
   },
   "outputs": [],
   "source": [
    "# Add to the instructors list\n",
    "george = Person('George', 'Shih', 'Cornell')\n",
    "marc = Person('Marc', 'Kohli', 'UCSF')\n",
    "andrew = Person('Andrew', 'Smith', 'UAB')\n",
    "# Append items one-at-a-time\n",
    "instructors.append(george)\n",
    "instructors.append(marc)\n",
    "instructors.append(andrew)\n",
    "\n",
    "# Alternatively, we could have used extend to add multiple items to the list\n",
    "# instructors.extend((george, marc, andrew))"
   ]
  },
  {
   "cell_type": "code",
   "execution_count": 0,
   "metadata": {
    "colab": {},
    "colab_type": "code",
    "id": "Vr5fXClD3S9d"
   },
   "outputs": [],
   "source": [
    "instructors"
   ]
  },
  {
   "cell_type": "code",
   "execution_count": 0,
   "metadata": {
    "colab": {},
    "colab_type": "code",
    "id": "9NWI83gg3zot"
   },
   "outputs": [],
   "source": [
    "instructors[0]"
   ]
  },
  {
   "cell_type": "code",
   "execution_count": 0,
   "metadata": {
    "colab": {},
    "colab_type": "code",
    "id": "tMuhymGH31L8"
   },
   "outputs": [],
   "source": [
    "instructors[0].firstname"
   ]
  },
  {
   "cell_type": "code",
   "execution_count": 0,
   "metadata": {
    "colab": {},
    "colab_type": "code",
    "id": "APwz2cna33jt"
   },
   "outputs": [],
   "source": [
    "print(\"Today's instructors are:\")\n",
    "\n",
    "for p in instructors:\n",
    "  print(\"  * %s %s (%s)\" % (p.firstname, p.lastname, p.institution))"
   ]
  },
  {
   "cell_type": "code",
   "execution_count": 0,
   "metadata": {
    "colab": {},
    "colab_type": "code",
    "id": "PNctVmjVjvPU"
   },
   "outputs": [],
   "source": [
    "# We can continue to add and remove entries from the Instructors list\n",
    "instructors.append(Person('Thomas', 'Loehfelm', 'UC Davis'))\n",
    "\n",
    "print(\"Today's instructors are:\")\n",
    "\n",
    "for p in instructors:\n",
    "  print(\"  * %s %s (%s)\" % (p.firstname, p.lastname, p.institution))"
   ]
  },
  {
   "cell_type": "code",
   "execution_count": 0,
   "metadata": {
    "colab": {},
    "colab_type": "code",
    "id": "cTqmuQMvj3Zy"
   },
   "outputs": [],
   "source": [
    "# We can sort the list of instructors by their first name (or any other property of the Person class)\n",
    "print(\"Today's instructors are:\")\n",
    "\n",
    "for p in sorted(instructors, key=lambda p: p.firstname):\n",
    "  print(\"  * %s %s (%s)\" % (p.firstname, p.lastname, p.institution))"
   ]
  },
  {
   "cell_type": "code",
   "execution_count": 0,
   "metadata": {
    "colab": {},
    "colab_type": "code",
    "id": "u74x6LNypPJA"
   },
   "outputs": [],
   "source": []
  }
 ],
 "metadata": {
  "colab": {
   "collapsed_sections": [],
   "include_colab_link": true,
   "name": "SAR2020 - Intro to Jupyter.ipynb",
   "provenance": [],
   "toc_visible": true
  },
  "kernelspec": {
   "display_name": "Python 3",
   "language": "python",
   "name": "python3"
  },
  "language_info": {
   "codemirror_mode": {
    "name": "ipython",
    "version": 3
   },
   "file_extension": ".py",
   "mimetype": "text/x-python",
   "name": "python",
   "nbconvert_exporter": "python",
   "pygments_lexer": "ipython3",
   "version": "3.8.0"
  }
 },
 "nbformat": 4,
 "nbformat_minor": 1
}
